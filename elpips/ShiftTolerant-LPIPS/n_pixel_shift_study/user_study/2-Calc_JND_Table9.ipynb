{
 "cells": [
  {
   "cell_type": "code",
   "execution_count": 22,
   "metadata": {},
   "outputs": [],
   "source": [
    "import json\n",
    "import torchvision.transforms as transforms\n",
    "from tqdm import tqdm\n",
    "import numpy as np\n",
    "from PIL import Image"
   ]
  },
  {
   "cell_type": "code",
   "execution_count": 23,
   "metadata": {},
   "outputs": [
    {
     "name": "stdout",
     "output_type": "stream",
     "text": [
      "Setting up [LPIPS] perceptual loss: trunk [vgg], v[0.1], spatial [off]\n",
      "Loading model from: /scratch/abhijay/ShiftTolerant-LPIPS/stlpips/weights/vST0.0/vgg_shift_tolerant.pth\n"
     ]
    }
   ],
   "source": [
    "##### 1. LPIPS\n",
    "import sys\n",
    "sys.path.insert(0,'../../../ShiftTolerant-LPIPS')\n",
    "import stlpips\n",
    "# model = stlpips.LPIPS(net='alex') # author\n",
    "# model = stlpips.LPIPS(net='alex', variant=\"vanilla\")\n",
    "# model = stlpips.LPIPS(net='alex', variant=\"shift_tolerant\")\n",
    "# model = stlpips.LPIPS(net='vgg') # author\n",
    "# model = stlpips.LPIPS(net='vgg', variant=\"vanilla\")\n",
    "model = stlpips.LPIPS(net='vgg', variant=\"shift_tolerant\")\n",
    "# model = stlpips.DSSIM(use_gpu=0,colorspace=\"RGB\")\n",
    "\n",
    "load_size = 256\n",
    "transform_list = []\n",
    "transform_list.append(transforms.Scale(load_size))\n",
    "transform_list += [transforms.ToTensor(),\n",
    "    transforms.Normalize((0.5, 0.5, 0.5),(0.5, 0.5, 0.5))]\n",
    "transform = transforms.Compose(transform_list)\n",
    "\n",
    "def load_data(im):\n",
    "    l_img = Image.open(im).convert('RGB').crop((0,0,256,256))\n",
    "    l_img = transform(l_img).unsqueeze(0)\n",
    "    r_img = Image.open(im).convert('RGB').crop((256+20,0,256+20+256,256))\n",
    "    r_img = transform(r_img).unsqueeze(0)\n",
    "    return l_img, r_img"
   ]
  },
  {
   "cell_type": "code",
   "execution_count": 24,
   "metadata": {},
   "outputs": [],
   "source": [
    "# #### 2. DISTS\n",
    "# from DISTS_pytorch import DISTS\n",
    "# model = DISTS()\n",
    "\n",
    "# load_size = 256\n",
    "# transform_list = []\n",
    "# transform_list.append(transforms.Scale(load_size))\n",
    "# transform_list += [transforms.ToTensor()]\n",
    "# transform = transforms.Compose(transform_list)\n",
    "\n",
    "# def load_data(im):\n",
    "#     l_img = Image.open(im).convert('RGB').crop((0,0,256,256))\n",
    "#     l_img = transform(l_img).unsqueeze(0)\n",
    "#     r_img = Image.open(im).convert('RGB').crop((256+20,0,256+20+256,256))\n",
    "#     r_img = transform(r_img).unsqueeze(0)\n",
    "#     return l_img, r_img"
   ]
  },
  {
   "cell_type": "code",
   "execution_count": 25,
   "metadata": {},
   "outputs": [],
   "source": [
    "f = open(\"user_jnd.json\",\"r\")\n",
    "user_jnd = json.load(f)"
   ]
  },
  {
   "cell_type": "code",
   "execution_count": 26,
   "metadata": {},
   "outputs": [
    {
     "name": "stderr",
     "output_type": "stream",
     "text": [
      "100%|██████████| 301/301 [00:39<00:00,  7.67it/s]\n"
     ]
    }
   ],
   "source": [
    "ds = []\n",
    "sames = []\n",
    "for k in tqdm(user_jnd.keys()):\n",
    "#     im = \"/\".join([\"0_9_pix_shift\",k])\n",
    "    im = k\n",
    "    responses = np.mean(user_jnd[k])\n",
    "    sames.append(responses)\n",
    "    l, r = load_data(im)\n",
    "    ds.append(model.forward(l,r).item())"
   ]
  },
  {
   "cell_type": "code",
   "execution_count": 27,
   "metadata": {},
   "outputs": [],
   "source": [
    "# ##### 3. PIM\n",
    "# with open('pim1_user_jnd_sames.npy', 'rb') as f:\n",
    "#     sames = np.load(f)\n",
    "# with open('pim1_user_jnd_ds.npy', 'rb') as f:\n",
    "#     ds = np.load(f)\n",
    "# ds = ds.flatten()"
   ]
  },
  {
   "cell_type": "code",
   "execution_count": 28,
   "metadata": {},
   "outputs": [
    {
     "name": "stdout",
     "output_type": "stream",
     "text": [
      "0.7747415559648578\n"
     ]
    }
   ],
   "source": [
    "sames = np.array(sames)\n",
    "ds = np.array(ds)\n",
    "\n",
    "sorted_inds = np.argsort(ds)\n",
    "ds_sorted = ds[sorted_inds]\n",
    "sames_sorted = sames[sorted_inds]\n",
    "\n",
    "TPs = np.cumsum(sames_sorted)\n",
    "FPs = np.cumsum(1-sames_sorted)\n",
    "FNs = np.sum(sames_sorted)-TPs\n",
    "\n",
    "precs = TPs/(TPs+FPs)\n",
    "recs = TPs/(TPs+FNs)\n",
    "score = stlpips.voc_ap(recs,precs)\n",
    "\n",
    "print(score)"
   ]
  }
 ],
 "metadata": {
  "kernelspec": {
   "display_name": "Python 3.8.13 ('pt')",
   "language": "python",
   "name": "python3"
  },
  "language_info": {
   "codemirror_mode": {
    "name": "ipython",
    "version": 3
   },
   "file_extension": ".py",
   "mimetype": "text/x-python",
   "name": "python",
   "nbconvert_exporter": "python",
   "pygments_lexer": "ipython3",
   "version": "3.8.13"
  },
  "vscode": {
   "interpreter": {
    "hash": "396bec2daf664d1ab18f5a97e6f52a22b227ba174dd85239c5f7b022f68245fd"
   }
  }
 },
 "nbformat": 4,
 "nbformat_minor": 4
}
