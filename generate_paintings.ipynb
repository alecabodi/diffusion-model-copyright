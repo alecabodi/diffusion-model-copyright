{
 "cells": [
  {
   "cell_type": "code",
   "execution_count": null,
   "metadata": {},
   "outputs": [],
   "source": [
    "import torch\n",
    "from diffusers import StableDiffusionXLPipeline, UNet2DConditionModel, EulerDiscreteScheduler\n",
    "from huggingface_hub import hf_hub_download\n",
    "from safetensors.torch import load_file\n",
    "import uuid\n",
    "import textwrap\n",
    "import matplotlib.pyplot as plt\n",
    "\n",
    "\n",
    "base = \"stabilityai/stable-diffusion-xl-base-1.0\"\n",
    "repo = \"ByteDance/SDXL-Lightning\"\n",
    "ckpt = \"sdxl_lightning_8step_unet.safetensors\"\n",
    "\n",
    "unet = UNet2DConditionModel.from_config(base, subfolder=\"unet\").to(\"cuda\", torch.float16)\n",
    "unet.load_state_dict(load_file(hf_hub_download(repo, ckpt), device=\"cuda\"))\n",
    "pipe = StableDiffusionXLPipeline.from_pretrained(base, unet=unet, torch_dtype=torch.float16, variant=\"fp16\").to(\"cuda\")\n",
    "pipe.scheduler = EulerDiscreteScheduler.from_config(pipe.scheduler.config, timestep_spacing=\"trailing\")\n",
    "\n",
    "def run_and_show(prompts):\n",
    "    images_per_row = 4\n",
    "    total_images = len(prompts)\n",
    "    rows_needed = (total_images + images_per_row - 1) // images_per_row\n",
    "\n",
    "    fig_width = 24\n",
    "    fig_height_per_row = 6\n",
    "    plt.figure(figsize=(fig_width, rows_needed * fig_height_per_row))\n",
    "\n",
    "    for i, prompt in enumerate(prompts):\n",
    "        image = pipe(prompt, num_inference_steps=8, guidance_scale=0).images[0]\n",
    "        plt.subplot(rows_needed, images_per_row, i+1)\n",
    "        plt.imshow(image)\n",
    "        wrapped_text = textwrap.fill(prompt, width=50)\n",
    "        plt.title(wrapped_text, fontsize=10, pad=10)\n",
    "        plt.axis('off')\n",
    "\n",
    "    plt.subplots_adjust(wspace=0.1, hspace=0.1)\n",
    "    plt.show()"
   ]
  },
  {
   "cell_type": "code",
   "execution_count": null,
   "metadata": {},
   "outputs": [],
   "source": [
    "# generate replicas of famous paintings to see how the model behaves\n",
    "\n",
    "prompts = [\n",
    "\"A painting of The Starry Night by Vincent van Gogh\",\n",
    "\"A painting of The Great Wave off Kanagawa by Katsushika Hokusai\",\n",
    "\"A painting of The Scream by Edvard Munch\",\n",
    "\"A painting of The Persistence of Memory by Salvador Dalí\",\n",
    "\"A painting of The Birth of Venus by Sandro Botticelli\",\n",
    "\"A painting of The Kiss by Gustav Klimt\",\n",
    "\"A painting of A Sunday Afternoon on the Island of La Grande Jatte by Georges Seurat\",\n",
    "\"A painting of The Creation of Adam by Michelangelo\",\n",
    "\"A painting of The Christ of Saint John of the Cross by Salvador Dalí\",\n",
    "\"A painting of The Christ And The Storm by Rembrandt\",\n",
    "\"A painting of Impression, Sunrise by Claude Monet\",\n",
    "\"A painting of Daydream or Reverie by Alphonse Mucha\",\n",
    "\"A painting of Jean-michel Basquiat by Richard Day\",\n",
    "\"A painting of Bal du moulin de la Galette by Pierre-Auguste Renoir\",\n",
    "\"A painting of Under the Tree of Life by Gustav Klimt\",\n",
    "\"A painting of Man in Bowler Hat by René Magritte\",\n",
    "\"A painting of The Autumn by Alphonse Mucha\",\n",
    "\"A painting of Blue Lovers by Marc Chagall\",\n",
    "\"A painting of Merilyn Monroe by Andy Warhol\",\n",
    "\"A painting of Guernica by Pablo Picasso\",\n",
    "\"A painting of Dora Maar au Chat by Pablo Picasso\",\n",
    "\"A painting of A Girl with Pearl Earring by Johannes Vermeer\",\n",
    "\"A painting of Cafe Terrace at Night by Vincent van Gogh\",\n",
    "]*100\n",
    "\n",
    "run_and_show(prompts)"
   ]
  }
 ],
 "metadata": {
  "kernelspec": {
   "display_name": "Python 3",
   "language": "python",
   "name": "python3"
  },
  "language_info": {
   "codemirror_mode": {
    "name": "ipython",
    "version": 3
   },
   "file_extension": ".py",
   "mimetype": "text/x-python",
   "name": "python",
   "nbconvert_exporter": "python",
   "pygments_lexer": "ipython3",
   "version": "3.9.19"
  }
 },
 "nbformat": 4,
 "nbformat_minor": 2
}
